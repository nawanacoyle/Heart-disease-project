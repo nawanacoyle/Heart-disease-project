{
 "cells": [
  {
   "cell_type": "markdown",
   "id": "4bff09fe",
   "metadata": {},
   "source": [
    "# Predicting Heart Disease Using Machine Learning\n",
    "\n",
    "According to CDC (2022), heart disease is the leading casue of death in adults in the United States. Every year about 659,000 people in the US die from heart disease, which is 1 in every 4 deaths a year. \n",
    "\n",
    "This project focuses on identifying factors which mostly contribute to heart disease, which in turn will help identify patients who are most vulnerable to developing heart disease at an earlier stage. Improving prognosis will not only help reduce mortality rate related to heart disease, but also help reduce heart disease related costs, which at the moment counts to about $363 billion each year. \n",
    "https://www.cdc.gov/heartdisease/facts.htm\n",
    "\n",
    "**1. Problem** \n",
    "\n",
    "Given certain clinical attributes, using machine learning algorithms, can we predict if a patient is prone to heart disease or not? \n",
    "    \n",
    "**2. Data**\n",
    "   \n",
    "Original data came from the Cleavland data from the UCI Machine Learning Repository and is also available on Kaggle. https://www.kaggle.com/ronitf/heart-disease-uci\n",
    "\n",
    "**3. Evaluation**\n",
    "\n",
    "Reach 95% accuracy in predicting if the patient has heart disease or not. \n",
    "\n",
    "**4. Features** - Exploratory Data Analysis (EDA)\n",
    "\n",
    "Features that could be considered to determine if one has heart disease or not are the following: \n",
    "1. age - age in years\n",
    "2. sex - (1 = male; 0 = female)\n",
    "3. cp - chest pain type\n",
    "\n",
    "        0: Typical angina: chest pain related decrease blood supply to the heart\n",
    "        1: Atypical angina: chest pain not related to heart\n",
    "        2: Non-anginal pain: typically esophageal spasms (non heart related)\n",
    "        3: Asymptomatic: chest pain not showing signs of disease\n",
    "4. trestbps - resting blood pressure (in mm Hg on admission to the hospital) anything above 130-140 is typically cause for concern\n",
    "5. chol - serum cholestoral in mg/dl\n",
    "        \n",
    "        serum = LDL + HDL + .2 * triglycerides\n",
    "        above 200 is cause for concern\n",
    "6. fbs - (fasting blood sugar > 120 mg/dl) (1 = true; 0 = false)\n",
    "        \n",
    "        '>126' mg/dL signals diabetes\n",
    "7. restecg - resting electrocardiographic results\n",
    "\n",
    "        0: Nothing to note\n",
    "        1: ST-T Wave abnormality\n",
    "            \n",
    "            can range from mild symptoms to severe problems\n",
    "            signals non-normal heart beat\n",
    "        2: Possible or definite left ventricular hypertrophy\n",
    "            Enlarged heart's main pumping chamber\n",
    "8. thalach - maximum heart rate achieved\n",
    "9. exang - exercise induced angina (1 = yes; 0 = no)\n",
    "10. oldpeak - ST depression induced by exercise relative to rest looks at stress of heart during excercise unhealthy heart will stress more\n",
    "11. slope - the slope of the peak exercise ST segment\n",
    "\n",
    "        0: Upsloping: better heart rate with excercise (uncommon)\n",
    "        1: Flatsloping: minimal change (typical healthy heart)\n",
    "        2: Downslopins: signs of unhealthy heart\n",
    "12. ca - number of major vessels (0-3) colored by flourosopy\n",
    "        \n",
    "        colored vessel means the doctor can see the blood passing through\n",
    "        the more blood movement the better (no clots)\n",
    "13. thal - thalium stress result\n",
    "        \n",
    "        1,3: normal\n",
    "        6: fixed defect: used to be defect but ok now\n",
    "        7: reversable defect: no proper blood movement when excercising\n",
    "14. target - have disease or not (1=yes, 0=no) (= the predicted attribute)\n",
    "\n",
    "**5. Modeling**\n",
    "\n",
    "**6. Experiementation**"
   ]
  },
  {
   "cell_type": "markdown",
   "id": "1334514f",
   "metadata": {},
   "source": [
    "**Preparing the tools**"
   ]
  },
  {
   "cell_type": "code",
   "execution_count": 2,
   "id": "12bfb6df",
   "metadata": {},
   "outputs": [],
   "source": [
    "# Performing EDA\n",
    "import pandas as pd\n",
    "import numpy as np\n",
    "import matplotlib.pyplot as plt\n",
    "import seaborn as sns\n",
    "%matplotlib inline\n",
    "\n",
    "# Modeling\n",
    "from sklearn.ensemble import RandomForestClassifier\n",
    "from sklearn.linear_model import LogisticRegression\n",
    "from sklearn.neighbors import KNeighborsClassifier\n",
    "from xgboost import XGBClassifier\n",
    "\n",
    "\n",
    "# Model evaluation\n",
    "from sklearn.model_selection import cross_val_score, train_test_split\n",
    "from sklearn.model_selection import RandomizedSearchCV, GridSearchCV\n",
    "from sklearn.utils import shuffle\n",
    "from sklearn.metrics import confusion_matrix, classification_report\n",
    "from sklearn.metrics import accuracy_score, precision_score, recall_score, f1_score\n",
    "from sklearn import metrics\n",
    "from sklearn.metrics import RocCurveDisplay"
   ]
  },
  {
   "cell_type": "markdown",
   "id": "9884ca9d",
   "metadata": {},
   "source": [
    "### Helper Functions"
   ]
  },
  {
   "cell_type": "code",
   "execution_count": 3,
   "id": "7b25076c",
   "metadata": {},
   "outputs": [],
   "source": [
    "def load_file(file_name):\n",
    "    '''\n",
    "    Loads csv to panda dataframe.\n",
    "    '''\n",
    "    return pd.read_csv(file_name)\n",
    "    \n",
    "def file_properties(file):\n",
    "    '''\n",
    "    Shows the shape of the file, if there are any empty values, any duplicated values and information\n",
    "    about the dataframe.\n",
    "    '''\n",
    "    file.info()\n",
    "    print( f\" \\nEmpty values in file: {file.isna().sum()} \\n\")\n",
    "    print(f\"Duplicated values in file : {file.duplicated().sum()} \\n\")\n",
    "    print(file.describe())\n",
    "\n",
    "def clean_data (file):\n",
    "    '''\n",
    "    Remove duplicates and shuffle data to minimize variance and generate a better model. \n",
    "    '''\n",
    "    np.random.seed(50)\n",
    "    file = shuffle(file).reset_index(drop=False)\n",
    "    \n",
    "    \n",
    "def patients_in_outlier_zone(df, col, feature):\n",
    "    '''\n",
    "    Identifies the mean and the outliners for a specific column.\n",
    "    df = file worked on\n",
    "    col = column in question, as shown in file, generally shown as an abrevation.\n",
    "    feature = A name for the column that can be easily understood instead of the abrevated column name.\n",
    "    eg: patients_in_outlier_zone(file_name, abrevated_col_name, actual_column_name)\n",
    "    '''\n",
    "    mean = df[col].mean()\n",
    "    iqr = df[col].describe()['75%'] - df[col].describe()['25%']\n",
    "    upper  = df[col].describe()['75%'] + 1.5*iqr\n",
    "    lower = df[col].describe()['25%']-1.5* iqr\n",
    "    print(f\"The dataset carries values ranging from {df[col].describe()['min']} and {df[col].describe()['max']} \")\n",
    "    print(f\"In this {feature} distribution, mean: {mean:.2f}, \\n Outliers:  {lower} and {upper}!\")\n",
    "    print (f\"Number of patient data in the outlier zone, \\n with heart disease: \\\n",
    "    {sum(df[col][(df[col]>upper)&(file.target==1)].value_counts())} \\n without \\\n",
    "    heart disease : {sum(df[col][(df[col]>upper)&(file.target!=1)].value_counts())}\")\n",
    "\n",
    "    \n",
    "def feature_in_cross_tab(df, col):\n",
    "    '''\n",
    "    Helps view features against target in a crosstab view.\n",
    "    df = data file\n",
    "    col = column in question\n",
    "    '''\n",
    "    feature_crosstab = pd.crosstab(df[col], file.target)\n",
    "    feature_crosstab.columns = [\"No Heart Disease\", \"Heart Disease\"]\n",
    "    return feature_crosstab\n",
    "    \n",
    "    \n",
    "def visualize_feature_with_target(df, col, feature):\n",
    "    '''\n",
    "    Visualize a specific feature in the dataset against the target.\n",
    "    '''\n",
    "    fig, ax = plt.subplots(figsize = (6,4))\n",
    "    pd.crosstab( df[col], df['target'] ).plot(kind = \"bar\", ax= ax, color = ['lightblue', 'lightgreen', 'green', 'orange'])\n",
    "    ax.set(title = f\"Heart Disease According to {feature.capitalize()}\",\n",
    "          ylabel = \"Amount\" )\n",
    "    ax.legend([\"No Disease\", \"Disease\"])\n",
    "    plt.xticks(rotation = 0)\n",
    "    \n",
    "    \n",
    "def view_in_histogram(df, col, feature):\n",
    "    '''\n",
    "    Creating a histogram for a feature and finding outliers and getting the mean of the values without outliers.\n",
    "    '''\n",
    "    fig, ax = plt.subplots()\n",
    "    ax.set(title = f\"Distribution of Patients according to the {feature.capitalize()}\",\n",
    "          xlabel = feature.capitalize(),\n",
    "          ylabel = \"Number of Patients\")\n",
    "    iqr = df[col].describe()['75%'] - df[col].describe()['25%']\n",
    "    upper  = df[col].describe()['75%'] + 1.5*iqr\n",
    "    lower = df[col].describe()['25%']-1.5* iqr\n",
    "    values = df[col][(df[col]<upper) & (df[col]>lower)] # Values without outliers\n",
    "    mean_value = sum(values)/len(values) # Mean of the values within outliers\n",
    "    plt.axvline(mean_value, color = \"orange\")\n",
    "    ax.hist(df[col])\n",
    "    \n",
    "\n",
    "def scatter_plot_features(df, col1, col2):\n",
    "    '''\n",
    "    Plots 2 independant features in a scatter plot with regard to prevelence of the disease.\n",
    "    df = dataset\n",
    "    col1= 1st independant variable considered for the evaluation\n",
    "    col2 = 2nd variable considered for the evaluation\n",
    "    '''\n",
    "    fig, ax = plt.subplots()\n",
    "    no_disease = plt.scatter(df[col1][df['target']==0], df[col2][df['target']==0],\n",
    "                             color = \"lightBlue\", label = col2)\n",
    "    with_disease = plt.scatter(df[col1][df['target']==1], df[col2][df['target']==1], \n",
    "                               color = 'orange', label = col1)\n",
    "    ax.set(title = (f\"Relationship between {col1.capitalize()} and {col2.capitalize()} \"),\n",
    "           xlabel=(f\"{col1.capitalize()} Limits \"),\n",
    "           ylabel=(f\"{col2.capitalize()} Limits\"))\n",
    "    ax.legend([with_disease, no_disease], [\"Disease\", \"No Disease\"])\n",
    "    \n",
    "\n",
    "def score_with_gscv (model, grid):\n",
    "    '''\n",
    "    Calculates the score using the best parameters chosen from the best_params_with_rscv() function.\n",
    "    model = model_name\n",
    "    grid = the grid containing the best parameters \n",
    "    '''\n",
    "    gscv = GridSearchCV(model,\n",
    "                       param_grid= grid,\n",
    "                       cv = 5,\n",
    "                       verbose = True)\n",
    "    gscv.fit(features_train, target_train)\n",
    "    return gscv.score(features_test, target_test)*100\n",
    "\n",
    "\n",
    "    \n"
   ]
  },
  {
   "cell_type": "code",
   "execution_count": 4,
   "id": "46361e68",
   "metadata": {},
   "outputs": [],
   "source": [
    "file = load_file(\"heart-disease.csv\")"
   ]
  },
  {
   "cell_type": "code",
   "execution_count": 5,
   "id": "1315ac93",
   "metadata": {},
   "outputs": [
    {
     "data": {
      "text/html": [
       "<div>\n",
       "<style scoped>\n",
       "    .dataframe tbody tr th:only-of-type {\n",
       "        vertical-align: middle;\n",
       "    }\n",
       "\n",
       "    .dataframe tbody tr th {\n",
       "        vertical-align: top;\n",
       "    }\n",
       "\n",
       "    .dataframe thead th {\n",
       "        text-align: right;\n",
       "    }\n",
       "</style>\n",
       "<table border=\"1\" class=\"dataframe\">\n",
       "  <thead>\n",
       "    <tr style=\"text-align: right;\">\n",
       "      <th></th>\n",
       "      <th>age</th>\n",
       "      <th>sex</th>\n",
       "      <th>cp</th>\n",
       "      <th>trestbps</th>\n",
       "      <th>chol</th>\n",
       "      <th>fbs</th>\n",
       "      <th>restecg</th>\n",
       "      <th>thalach</th>\n",
       "      <th>exang</th>\n",
       "      <th>oldpeak</th>\n",
       "      <th>slope</th>\n",
       "      <th>ca</th>\n",
       "      <th>thal</th>\n",
       "      <th>target</th>\n",
       "    </tr>\n",
       "  </thead>\n",
       "  <tbody>\n",
       "    <tr>\n",
       "      <th>0</th>\n",
       "      <td>63</td>\n",
       "      <td>1</td>\n",
       "      <td>3</td>\n",
       "      <td>145</td>\n",
       "      <td>233</td>\n",
       "      <td>1</td>\n",
       "      <td>0</td>\n",
       "      <td>150</td>\n",
       "      <td>0</td>\n",
       "      <td>2.3</td>\n",
       "      <td>0</td>\n",
       "      <td>0</td>\n",
       "      <td>1</td>\n",
       "      <td>1</td>\n",
       "    </tr>\n",
       "    <tr>\n",
       "      <th>1</th>\n",
       "      <td>37</td>\n",
       "      <td>1</td>\n",
       "      <td>2</td>\n",
       "      <td>130</td>\n",
       "      <td>250</td>\n",
       "      <td>0</td>\n",
       "      <td>1</td>\n",
       "      <td>187</td>\n",
       "      <td>0</td>\n",
       "      <td>3.5</td>\n",
       "      <td>0</td>\n",
       "      <td>0</td>\n",
       "      <td>2</td>\n",
       "      <td>1</td>\n",
       "    </tr>\n",
       "    <tr>\n",
       "      <th>2</th>\n",
       "      <td>41</td>\n",
       "      <td>0</td>\n",
       "      <td>1</td>\n",
       "      <td>130</td>\n",
       "      <td>204</td>\n",
       "      <td>0</td>\n",
       "      <td>0</td>\n",
       "      <td>172</td>\n",
       "      <td>0</td>\n",
       "      <td>1.4</td>\n",
       "      <td>2</td>\n",
       "      <td>0</td>\n",
       "      <td>2</td>\n",
       "      <td>1</td>\n",
       "    </tr>\n",
       "    <tr>\n",
       "      <th>3</th>\n",
       "      <td>56</td>\n",
       "      <td>1</td>\n",
       "      <td>1</td>\n",
       "      <td>120</td>\n",
       "      <td>236</td>\n",
       "      <td>0</td>\n",
       "      <td>1</td>\n",
       "      <td>178</td>\n",
       "      <td>0</td>\n",
       "      <td>0.8</td>\n",
       "      <td>2</td>\n",
       "      <td>0</td>\n",
       "      <td>2</td>\n",
       "      <td>1</td>\n",
       "    </tr>\n",
       "    <tr>\n",
       "      <th>4</th>\n",
       "      <td>57</td>\n",
       "      <td>0</td>\n",
       "      <td>0</td>\n",
       "      <td>120</td>\n",
       "      <td>354</td>\n",
       "      <td>0</td>\n",
       "      <td>1</td>\n",
       "      <td>163</td>\n",
       "      <td>1</td>\n",
       "      <td>0.6</td>\n",
       "      <td>2</td>\n",
       "      <td>0</td>\n",
       "      <td>2</td>\n",
       "      <td>1</td>\n",
       "    </tr>\n",
       "    <tr>\n",
       "      <th>5</th>\n",
       "      <td>57</td>\n",
       "      <td>1</td>\n",
       "      <td>0</td>\n",
       "      <td>140</td>\n",
       "      <td>192</td>\n",
       "      <td>0</td>\n",
       "      <td>1</td>\n",
       "      <td>148</td>\n",
       "      <td>0</td>\n",
       "      <td>0.4</td>\n",
       "      <td>1</td>\n",
       "      <td>0</td>\n",
       "      <td>1</td>\n",
       "      <td>1</td>\n",
       "    </tr>\n",
       "    <tr>\n",
       "      <th>6</th>\n",
       "      <td>56</td>\n",
       "      <td>0</td>\n",
       "      <td>1</td>\n",
       "      <td>140</td>\n",
       "      <td>294</td>\n",
       "      <td>0</td>\n",
       "      <td>0</td>\n",
       "      <td>153</td>\n",
       "      <td>0</td>\n",
       "      <td>1.3</td>\n",
       "      <td>1</td>\n",
       "      <td>0</td>\n",
       "      <td>2</td>\n",
       "      <td>1</td>\n",
       "    </tr>\n",
       "    <tr>\n",
       "      <th>7</th>\n",
       "      <td>44</td>\n",
       "      <td>1</td>\n",
       "      <td>1</td>\n",
       "      <td>120</td>\n",
       "      <td>263</td>\n",
       "      <td>0</td>\n",
       "      <td>1</td>\n",
       "      <td>173</td>\n",
       "      <td>0</td>\n",
       "      <td>0.0</td>\n",
       "      <td>2</td>\n",
       "      <td>0</td>\n",
       "      <td>3</td>\n",
       "      <td>1</td>\n",
       "    </tr>\n",
       "    <tr>\n",
       "      <th>8</th>\n",
       "      <td>52</td>\n",
       "      <td>1</td>\n",
       "      <td>2</td>\n",
       "      <td>172</td>\n",
       "      <td>199</td>\n",
       "      <td>1</td>\n",
       "      <td>1</td>\n",
       "      <td>162</td>\n",
       "      <td>0</td>\n",
       "      <td>0.5</td>\n",
       "      <td>2</td>\n",
       "      <td>0</td>\n",
       "      <td>3</td>\n",
       "      <td>1</td>\n",
       "    </tr>\n",
       "    <tr>\n",
       "      <th>9</th>\n",
       "      <td>57</td>\n",
       "      <td>1</td>\n",
       "      <td>2</td>\n",
       "      <td>150</td>\n",
       "      <td>168</td>\n",
       "      <td>0</td>\n",
       "      <td>1</td>\n",
       "      <td>174</td>\n",
       "      <td>0</td>\n",
       "      <td>1.6</td>\n",
       "      <td>2</td>\n",
       "      <td>0</td>\n",
       "      <td>2</td>\n",
       "      <td>1</td>\n",
       "    </tr>\n",
       "  </tbody>\n",
       "</table>\n",
       "</div>"
      ],
      "text/plain": [
       "   age  sex  cp  trestbps  chol  fbs  restecg  thalach  exang  oldpeak  slope  \\\n",
       "0   63    1   3       145   233    1        0      150      0      2.3      0   \n",
       "1   37    1   2       130   250    0        1      187      0      3.5      0   \n",
       "2   41    0   1       130   204    0        0      172      0      1.4      2   \n",
       "3   56    1   1       120   236    0        1      178      0      0.8      2   \n",
       "4   57    0   0       120   354    0        1      163      1      0.6      2   \n",
       "5   57    1   0       140   192    0        1      148      0      0.4      1   \n",
       "6   56    0   1       140   294    0        0      153      0      1.3      1   \n",
       "7   44    1   1       120   263    0        1      173      0      0.0      2   \n",
       "8   52    1   2       172   199    1        1      162      0      0.5      2   \n",
       "9   57    1   2       150   168    0        1      174      0      1.6      2   \n",
       "\n",
       "   ca  thal  target  \n",
       "0   0     1       1  \n",
       "1   0     2       1  \n",
       "2   0     2       1  \n",
       "3   0     2       1  \n",
       "4   0     2       1  \n",
       "5   0     1       1  \n",
       "6   0     2       1  \n",
       "7   0     3       1  \n",
       "8   0     3       1  \n",
       "9   0     2       1  "
      ]
     },
     "execution_count": 5,
     "metadata": {},
     "output_type": "execute_result"
    }
   ],
   "source": [
    "file.head(10)\n"
   ]
  },
  {
   "cell_type": "markdown",
   "id": "502bb0c5",
   "metadata": {},
   "source": [
    "### Exploratoy Data Analysis (EDA)"
   ]
  },
  {
   "cell_type": "code",
   "execution_count": 6,
   "id": "989e37d8",
   "metadata": {},
   "outputs": [
    {
     "name": "stdout",
     "output_type": "stream",
     "text": [
      "<class 'pandas.core.frame.DataFrame'>\n",
      "RangeIndex: 303 entries, 0 to 302\n",
      "Data columns (total 14 columns):\n",
      " #   Column    Non-Null Count  Dtype  \n",
      "---  ------    --------------  -----  \n",
      " 0   age       303 non-null    int64  \n",
      " 1   sex       303 non-null    int64  \n",
      " 2   cp        303 non-null    int64  \n",
      " 3   trestbps  303 non-null    int64  \n",
      " 4   chol      303 non-null    int64  \n",
      " 5   fbs       303 non-null    int64  \n",
      " 6   restecg   303 non-null    int64  \n",
      " 7   thalach   303 non-null    int64  \n",
      " 8   exang     303 non-null    int64  \n",
      " 9   oldpeak   303 non-null    float64\n",
      " 10  slope     303 non-null    int64  \n",
      " 11  ca        303 non-null    int64  \n",
      " 12  thal      303 non-null    int64  \n",
      " 13  target    303 non-null    int64  \n",
      "dtypes: float64(1), int64(13)\n",
      "memory usage: 33.3 KB\n",
      " \n",
      "Empty values in file: age         0\n",
      "sex         0\n",
      "cp          0\n",
      "trestbps    0\n",
      "chol        0\n",
      "fbs         0\n",
      "restecg     0\n",
      "thalach     0\n",
      "exang       0\n",
      "oldpeak     0\n",
      "slope       0\n",
      "ca          0\n",
      "thal        0\n",
      "target      0\n",
      "dtype: int64 \n",
      "\n",
      "Duplicated values in file : 1 \n",
      "\n",
      "              age         sex          cp    trestbps        chol         fbs  \\\n",
      "count  303.000000  303.000000  303.000000  303.000000  303.000000  303.000000   \n",
      "mean    54.366337    0.683168    0.966997  131.623762  246.264026    0.148515   \n",
      "std      9.082101    0.466011    1.032052   17.538143   51.830751    0.356198   \n",
      "min     29.000000    0.000000    0.000000   94.000000  126.000000    0.000000   \n",
      "25%     47.500000    0.000000    0.000000  120.000000  211.000000    0.000000   \n",
      "50%     55.000000    1.000000    1.000000  130.000000  240.000000    0.000000   \n",
      "75%     61.000000    1.000000    2.000000  140.000000  274.500000    0.000000   \n",
      "max     77.000000    1.000000    3.000000  200.000000  564.000000    1.000000   \n",
      "\n",
      "          restecg     thalach       exang     oldpeak       slope          ca  \\\n",
      "count  303.000000  303.000000  303.000000  303.000000  303.000000  303.000000   \n",
      "mean     0.528053  149.646865    0.326733    1.039604    1.399340    0.729373   \n",
      "std      0.525860   22.905161    0.469794    1.161075    0.616226    1.022606   \n",
      "min      0.000000   71.000000    0.000000    0.000000    0.000000    0.000000   \n",
      "25%      0.000000  133.500000    0.000000    0.000000    1.000000    0.000000   \n",
      "50%      1.000000  153.000000    0.000000    0.800000    1.000000    0.000000   \n",
      "75%      1.000000  166.000000    1.000000    1.600000    2.000000    1.000000   \n",
      "max      2.000000  202.000000    1.000000    6.200000    2.000000    4.000000   \n",
      "\n",
      "             thal      target  \n",
      "count  303.000000  303.000000  \n",
      "mean     2.313531    0.544554  \n",
      "std      0.612277    0.498835  \n",
      "min      0.000000    0.000000  \n",
      "25%      2.000000    0.000000  \n",
      "50%      2.000000    1.000000  \n",
      "75%      3.000000    1.000000  \n",
      "max      3.000000    1.000000  \n"
     ]
    }
   ],
   "source": [
    "# Shapes\n",
    "file_properties(file)"
   ]
  },
  {
   "cell_type": "markdown",
   "id": "7d6a1803",
   "metadata": {},
   "source": [
    "    File has 303 entries with 14 columns. All data entries are numeric values. \n",
    "\n",
    "    Since there are no patient ids or unique values to identify patients, we can assume all these are unique patients and therefore assume that there are no duplicated records."
   ]
  },
  {
   "cell_type": "markdown",
   "id": "05155dcb",
   "metadata": {},
   "source": [
    "Since all the data are numeric, there's no need to for OneHotEncoder for changing data types for data analysis."
   ]
  },
  {
   "cell_type": "code",
   "execution_count": 7,
   "id": "3f6f9272",
   "metadata": {},
   "outputs": [
    {
     "data": {
      "text/plain": [
       "1    165\n",
       "0    138\n",
       "Name: target, dtype: int64"
      ]
     },
     "execution_count": 7,
     "metadata": {},
     "output_type": "execute_result"
    }
   ],
   "source": [
    "#Understanding how many patients in the study have heart disease and how many do not have heart disease.\n",
    "target_values = file.target.value_counts()\n",
    "target_values"
   ]
  },
  {
   "cell_type": "markdown",
   "id": "cf8367c0",
   "metadata": {},
   "source": [
    "Number of patients with heart disease and without heart disease are similar. "
   ]
  },
  {
   "cell_type": "code",
   "execution_count": 8,
   "id": "43ad25be",
   "metadata": {},
   "outputs": [
    {
     "data": {
      "image/png": "[encoded data removed]",
      "text/plain": [
       "<Figure size 432x288 with 1 Axes>"
      ]
     },
     "metadata": {
      "needs_background": "light"
     },
     "output_type": "display_data"
    }
   ],
   "source": [
    "# Plotting patients with and without heart disease.\n",
    "fig, ax = plt.subplots(figsize = (6,4))\n",
    "ax= target_values.plot(kind = \"bar\", color = ['pink', 'blue'])\n",
    "ax.set(title = \"Patients with No Heart Disease Vs Heart Disease\",\n",
    "      xlabel = \"0 = No Heart Disease, 1 = Heart Disease\",\n",
    "      ylabel = (\"Number of Patients\"))\n",
    "plt.xticks(rotation = 0);"
   ]
  },
  {
   "cell_type": "markdown",
   "id": "1800c198",
   "metadata": {},
   "source": [
    "#### Cholesterol vs Prevelence of Heart Disease"
   ]
  },
  {
   "cell_type": "code",
   "execution_count": 9,
   "id": "e10f4a90",
   "metadata": {},
   "outputs": [
    {
     "data": {
      "image/png": "[encoded data removed]",
      "text/plain": [
       "<Figure size 432x288 with 1 Axes>"
      ]
     },
     "metadata": {
      "needs_background": "light"
     },
     "output_type": "display_data"
    }
   ],
   "source": [
    "plt.scatter(file.chol, file.target);"
   ]
  },
  {
   "cell_type": "markdown",
   "id": "e843ecd3",
   "metadata": {},
   "source": [
    "0: No heart disease, 1: Has heart disease. "
   ]
  },
  {
   "cell_type": "code",
   "execution_count": 89,
   "id": "30f332c7",
   "metadata": {},
   "outputs": [
    {
     "data": {
      "image/png": "[encoded data removed]",
      "text/plain": [
       "<Figure size 504x576 with 2 Axes>"
      ]
     },
     "metadata": {
      "needs_background": "light"
     },
     "output_type": "display_data"
    }
   ],
   "source": [
    "# Visualize the relationship between cholesterol levels and heart disease\n",
    "\n",
    "fig, (ax1, ax2) = plt.subplots(2,1, figsize = (7,8), sharex = True, sharey = True)\n",
    "ax1 = file.chol[file.target == 1].hist(ax = ax1, bins = 30, color = \"pink\")\n",
    "ax2 = file.chol[file.target == 0].hist(bins = 30, ax = ax2, color = 'lightblue');\n",
    "ax1.set(title = \"Cholesterol levels of Patients with Heart Disease\")\n",
    "ax2.set(title = \"Cholesterol levels of Patients without Heart Disease\")\n",
    "ax2.set(xlabel = 'Cholesterol Levels (mg/dL)',\n",
    "      ylabel = 'Number of Patients');\n",
    "# plt.xlabel('Cholesterol levels')\n",
    "# plt.ylabel('Number of patients')\n",
    "# plt.title('Cholesterol levels of patients with and without heart disease')"
   ]
  },
  {
   "cell_type": "markdown",
   "id": "b256ea2c",
   "metadata": {},
   "source": [
    "Looking at the graph, it is clear that even though there are patients who have high cholesterol levels without heart disease, majority of patients without heart disease have less than 250mg/dL."
   ]
  },
  {
   "cell_type": "code",
   "execution_count": 10,
   "id": "74aab144",
   "metadata": {},
   "outputs": [
    {
     "name": "stdout",
     "output_type": "stream",
     "text": [
      "The dataset carries values ranging from 29.0 and 77.0 \n",
      "In this age distribution, mean: 54.37, \n",
      " Outliers:  27.25 and 81.25!\n",
      "Number of patient data in the outlier zone, \n",
      " with heart disease:     0 \n",
      " without     heart disease : 0\n"
     ]
    }
   ],
   "source": [
    "# Trying to understand if there are any outliners in the age group.\n",
    "patients_in_outlier_zone(file, 'age', 'age')"
   ]
  },
  {
   "cell_type": "markdown",
   "id": "bb80576d",
   "metadata": {},
   "source": [
    "Since the minimum and maximum ages of the patients fall within the distribution, there's no need to eliminate any records"
   ]
  },
  {
   "cell_type": "code",
   "execution_count": 11,
   "id": "74ec1e73",
   "metadata": {},
   "outputs": [
    {
     "data": {
      "text/html": [
       "<div>\n",
       "<style scoped>\n",
       "    .dataframe tbody tr th:only-of-type {\n",
       "        vertical-align: middle;\n",
       "    }\n",
       "\n",
       "    .dataframe tbody tr th {\n",
       "        vertical-align: top;\n",
       "    }\n",
       "\n",
       "    .dataframe thead th {\n",
       "        text-align: right;\n",
       "    }\n",
       "</style>\n",
       "<table border=\"1\" class=\"dataframe\">\n",
       "  <thead>\n",
       "    <tr style=\"text-align: right;\">\n",
       "      <th></th>\n",
       "      <th>No Heart Disease</th>\n",
       "      <th>Heart Disease</th>\n",
       "    </tr>\n",
       "    <tr>\n",
       "      <th>sex</th>\n",
       "      <th></th>\n",
       "      <th></th>\n",
       "    </tr>\n",
       "  </thead>\n",
       "  <tbody>\n",
       "    <tr>\n",
       "      <th>0</th>\n",
       "      <td>24</td>\n",
       "      <td>72</td>\n",
       "    </tr>\n",
       "    <tr>\n",
       "      <th>1</th>\n",
       "      <td>114</td>\n",
       "      <td>93</td>\n",
       "    </tr>\n",
       "  </tbody>\n",
       "</table>\n",
       "</div>"
      ],
      "text/plain": [
       "     No Heart Disease  Heart Disease\n",
       "sex                                 \n",
       "0                  24             72\n",
       "1                 114             93"
      ]
     },
     "execution_count": 11,
     "metadata": {},
     "output_type": "execute_result"
    }
   ],
   "source": [
    "#How many males and females have heart disease\n",
    "feature_in_cross_tab(file, \"sex\")"
   ]
  },
  {
   "cell_type": "code",
   "execution_count": 12,
   "id": "3b2add9a",
   "metadata": {},
   "outputs": [
    {
     "data": {
      "image/png": "[encoded data removed]",
      "text/plain": [
       "<Figure size 432x288 with 1 Axes>"
      ]
     },
     "metadata": {
      "needs_background": "light"
     },
     "output_type": "display_data"
    }
   ],
   "source": [
    "# Visualize prevalence of heart disease according to gender\n",
    "visualize_feature_with_target(file, 'sex', 'gender');"
   ]
  },
  {
   "cell_type": "markdown",
   "id": "b866a6ff",
   "metadata": {},
   "source": [
    "Percentage-wise, more women in this test group have heart disease, compared to the men. "
   ]
  },
  {
   "cell_type": "code",
   "execution_count": 13,
   "id": "9e42e2d7",
   "metadata": {},
   "outputs": [
    {
     "data": {
      "text/html": [
       "<div>\n",
       "<style scoped>\n",
       "    .dataframe tbody tr th:only-of-type {\n",
       "        vertical-align: middle;\n",
       "    }\n",
       "\n",
       "    .dataframe tbody tr th {\n",
       "        vertical-align: top;\n",
       "    }\n",
       "\n",
       "    .dataframe thead th {\n",
       "        text-align: right;\n",
       "    }\n",
       "</style>\n",
       "<table border=\"1\" class=\"dataframe\">\n",
       "  <thead>\n",
       "    <tr style=\"text-align: right;\">\n",
       "      <th></th>\n",
       "      <th>No Heart Disease</th>\n",
       "      <th>Heart Disease</th>\n",
       "    </tr>\n",
       "    <tr>\n",
       "      <th>fbs</th>\n",
       "      <th></th>\n",
       "      <th></th>\n",
       "    </tr>\n",
       "  </thead>\n",
       "  <tbody>\n",
       "    <tr>\n",
       "      <th>0</th>\n",
       "      <td>116</td>\n",
       "      <td>142</td>\n",
       "    </tr>\n",
       "    <tr>\n",
       "      <th>1</th>\n",
       "      <td>22</td>\n",
       "      <td>23</td>\n",
       "    </tr>\n",
       "  </tbody>\n",
       "</table>\n",
       "</div>"
      ],
      "text/plain": [
       "     No Heart Disease  Heart Disease\n",
       "fbs                                 \n",
       "0                 116            142\n",
       "1                  22             23"
      ]
     },
     "execution_count": 13,
     "metadata": {},
     "output_type": "execute_result"
    }
   ],
   "source": [
    "feature_in_cross_tab(file, \"fbs\")"
   ]
  },
  {
   "cell_type": "code",
   "execution_count": 14,
   "id": "56c72b36",
   "metadata": {},
   "outputs": [
    {
     "data": {
      "image/png": "[encoded data removed]",
      "text/plain": [
       "<Figure size 432x288 with 1 Axes>"
      ]
     },
     "metadata": {
      "needs_background": "light"
     },
     "output_type": "display_data"
    }
   ],
   "source": [
    "# Visualize prevalence of heart disease according to fasting blood sugar\n",
    "visualize_feature_with_target(file, 'fbs', 'fasting blood sugar');"
   ]
  },
  {
   "cell_type": "markdown",
   "id": "695d247b",
   "metadata": {},
   "source": [
    "According to the graph, there are 50:50 chance of having disease vs no disease regardless of one's fasting blood sugar levels."
   ]
  },
  {
   "cell_type": "code",
   "execution_count": 15,
   "id": "cb693f9d",
   "metadata": {},
   "outputs": [
    {
     "data": {
      "image/png": "[encoded data removed]",
      "text/plain": [
       "<Figure size 432x288 with 1 Axes>"
      ]
     },
     "metadata": {
      "needs_background": "light"
     },
     "output_type": "display_data"
    }
   ],
   "source": [
    "visualize_feature_with_target(file, 'exang', 'exercise induced angina')"
   ]
  },
  {
   "cell_type": "markdown",
   "id": "e2203f20",
   "metadata": {},
   "source": [
    "According to the graph, few people with exercise induced angina develop the disease. Many people exercise induced angina do not develop heart disease. \n",
    "\n",
    "How is this possible? Is the data bias and not reflecting the true picture of the outside world?"
   ]
  },
  {
   "cell_type": "code",
   "execution_count": 16,
   "id": "aaf2609d",
   "metadata": {},
   "outputs": [
    {
     "data": {
      "image/png": "[encoded data removed]",
      "text/plain": [
       "<Figure size 432x288 with 1 Axes>"
      ]
     },
     "metadata": {
      "needs_background": "light"
     },
     "output_type": "display_data"
    }
   ],
   "source": [
    "view_in_histogram(file, 'trestbps', 'Resting Blood Pressure')\n"
   ]
  },
  {
   "cell_type": "code",
   "execution_count": 17,
   "id": "4fed7c9d",
   "metadata": {},
   "outputs": [
    {
     "name": "stdout",
     "output_type": "stream",
     "text": [
      "The dataset carries values ranging from 94.0 and 200.0 \n",
      "In this Blood Pressure distribution, mean: 131.62, \n",
      " Outliers:  90.0 and 170.0!\n",
      "Number of patient data in the outlier zone, \n",
      " with heart disease:     3 \n",
      " without     heart disease : 6\n"
     ]
    }
   ],
   "source": [
    "# Finding how many records that are outliers in resting blood pressure have heart disease. \n",
    "patients_in_outlier_zone(file, 'trestbps', \"Blood Pressure\")"
   ]
  },
  {
   "cell_type": "markdown",
   "id": "3523e276",
   "metadata": {},
   "source": [
    "How is it that the number of patients with heart disease is less than patients without heart disease in the outlier zone of over 170mmhg resting blood pressure?\n",
    "\n",
    "Resting blood pressure outliers hold about 3% of all the data. Do we disregard them. So should we continue with further evaluations?"
   ]
  },
  {
   "cell_type": "code",
   "execution_count": 18,
   "id": "d3a1134c",
   "metadata": {},
   "outputs": [
    {
     "data": {
      "image/png": "[encoded data removed]",
      "text/plain": [
       "<Figure size 432x288 with 1 Axes>"
      ]
     },
     "metadata": {
      "needs_background": "light"
     },
     "output_type": "display_data"
    }
   ],
   "source": [
    "view_in_histogram(file, 'chol', 'Cholesterol Level')\n"
   ]
  },
  {
   "cell_type": "code",
   "execution_count": 19,
   "id": "6865a1cc",
   "metadata": {},
   "outputs": [
    {
     "name": "stdout",
     "output_type": "stream",
     "text": [
      "The dataset carries values ranging from 126.0 and 564.0 \n",
      "In this Cholesterol Levels distribution, mean: 246.26, \n",
      " Outliers:  115.75 and 369.75!\n",
      "Number of patient data in the outlier zone, \n",
      " with heart disease:     3 \n",
      " without     heart disease : 2\n"
     ]
    }
   ],
   "source": [
    "patients_in_outlier_zone(file, 'chol', 'Cholesterol Levels')"
   ]
  },
  {
   "cell_type": "code",
   "execution_count": 20,
   "id": "179f5f14",
   "metadata": {},
   "outputs": [
    {
     "data": {
      "image/png": "[encoded data removed]",
      "text/plain": [
       "<Figure size 432x288 with 1 Axes>"
      ]
     },
     "metadata": {
      "needs_background": "light"
     },
     "output_type": "display_data"
    }
   ],
   "source": [
    "# Visualize relationship in patients with regard to their cholesterol levels and max heart rate \n",
    "scatter_plot_features(file, 'chol', 'trestbps')"
   ]
  },
  {
   "cell_type": "markdown",
   "id": "a813e2fa",
   "metadata": {},
   "source": [
    "General norm is that when cholesterol levels, go up, there's higher potential for developing heart disease. Same applies to resting blood pressure levels. \n",
    "Looking at the diagram, the results seem to contradict the general norm. Where does this disconnect come from? Is it inaccurate data reporting or not sufficient information?"
   ]
  },
  {
   "cell_type": "code",
   "execution_count": 21,
   "id": "edd0bd6f",
   "metadata": {},
   "outputs": [
    {
     "data": {
      "text/html": [
       "<div>\n",
       "<style scoped>\n",
       "    .dataframe tbody tr th:only-of-type {\n",
       "        vertical-align: middle;\n",
       "    }\n",
       "\n",
       "    .dataframe tbody tr th {\n",
       "        vertical-align: top;\n",
       "    }\n",
       "\n",
       "    .dataframe thead th {\n",
       "        text-align: right;\n",
       "    }\n",
       "</style>\n",
       "<table border=\"1\" class=\"dataframe\">\n",
       "  <thead>\n",
       "    <tr style=\"text-align: right;\">\n",
       "      <th></th>\n",
       "      <th>No Heart Disease</th>\n",
       "      <th>Heart Disease</th>\n",
       "    </tr>\n",
       "    <tr>\n",
       "      <th>cp</th>\n",
       "      <th></th>\n",
       "      <th></th>\n",
       "    </tr>\n",
       "  </thead>\n",
       "  <tbody>\n",
       "    <tr>\n",
       "      <th>0</th>\n",
       "      <td>104</td>\n",
       "      <td>39</td>\n",
       "    </tr>\n",
       "    <tr>\n",
       "      <th>1</th>\n",
       "      <td>9</td>\n",
       "      <td>41</td>\n",
       "    </tr>\n",
       "    <tr>\n",
       "      <th>2</th>\n",
       "      <td>18</td>\n",
       "      <td>69</td>\n",
       "    </tr>\n",
       "    <tr>\n",
       "      <th>3</th>\n",
       "      <td>7</td>\n",
       "      <td>16</td>\n",
       "    </tr>\n",
       "  </tbody>\n",
       "</table>\n",
       "</div>"
      ],
      "text/plain": [
       "    No Heart Disease  Heart Disease\n",
       "cp                                 \n",
       "0                104             39\n",
       "1                  9             41\n",
       "2                 18             69\n",
       "3                  7             16"
      ]
     },
     "execution_count": 21,
     "metadata": {},
     "output_type": "execute_result"
    }
   ],
   "source": [
    "# Understanding the relationship between chest pains and prevalence of heart disease\n",
    "feature_in_cross_tab(file, 'cp')"
   ]
  },
  {
   "cell_type": "code",
   "execution_count": 22,
   "id": "fca6df0e",
   "metadata": {},
   "outputs": [
    {
     "data": {
      "image/png": "[encoded data removed]",
      "text/plain": [
       "<Figure size 432x288 with 1 Axes>"
      ]
     },
     "metadata": {
      "needs_background": "light"
     },
     "output_type": "display_data"
    }
   ],
   "source": [
    "visualize_feature_with_target(file, 'cp', 'chest pain type')"
   ]
  },
  {
   "cell_type": "markdown",
   "id": "77cca1b0",
   "metadata": {},
   "source": [
    "CP,\n",
    "\n",
    "    0: Typical angina: chest pain related decrease blood supply to the heart\n",
    "    1: Atypical angina: chest pain not related to heart\n",
    "    2: Non-anginal pain: typically esophageal spasms (non heart related)\n",
    "    3: Asymptomatic: chest pain not showing signs of disease\n",
    "        \n",
    "According to this graph, non heart related pain somehow have a high correlation with patient having heart disease. This is a good time to talk to a subject matter expert and understand if the data retrieved need revision or understand where the disconnect comes from.\n"
   ]
  },
  {
   "cell_type": "code",
   "execution_count": 23,
   "id": "622b84c6",
   "metadata": {},
   "outputs": [
    {
     "data": {
      "text/html": [
       "<div>\n",
       "<style scoped>\n",
       "    .dataframe tbody tr th:only-of-type {\n",
       "        vertical-align: middle;\n",
       "    }\n",
       "\n",
       "    .dataframe tbody tr th {\n",
       "        vertical-align: top;\n",
       "    }\n",
       "\n",
       "    .dataframe thead th {\n",
       "        text-align: right;\n",
       "    }\n",
       "</style>\n",
       "<table border=\"1\" class=\"dataframe\">\n",
       "  <thead>\n",
       "    <tr style=\"text-align: right;\">\n",
       "      <th></th>\n",
       "      <th>age</th>\n",
       "      <th>sex</th>\n",
       "      <th>cp</th>\n",
       "      <th>trestbps</th>\n",
       "      <th>chol</th>\n",
       "      <th>fbs</th>\n",
       "      <th>restecg</th>\n",
       "      <th>thalach</th>\n",
       "      <th>exang</th>\n",
       "      <th>oldpeak</th>\n",
       "      <th>slope</th>\n",
       "      <th>ca</th>\n",
       "      <th>thal</th>\n",
       "      <th>target</th>\n",
       "    </tr>\n",
       "  </thead>\n",
       "  <tbody>\n",
       "    <tr>\n",
       "      <th>age</th>\n",
       "      <td>1.000000</td>\n",
       "      <td>-0.098447</td>\n",
       "      <td>-0.068653</td>\n",
       "      <td>0.279351</td>\n",
       "      <td>0.213678</td>\n",
       "      <td>0.121308</td>\n",
       "      <td>-0.116211</td>\n",
       "      <td>-0.398522</td>\n",
       "      <td>0.096801</td>\n",
       "      <td>0.210013</td>\n",
       "      <td>-0.168814</td>\n",
       "      <td>0.276326</td>\n",
       "      <td>0.068001</td>\n",
       "      <td>-0.225439</td>\n",
       "    </tr>\n",
       "    <tr>\n",
       "      <th>sex</th>\n",
       "      <td>-0.098447</td>\n",
       "      <td>1.000000</td>\n",
       "      <td>-0.049353</td>\n",
       "      <td>-0.056769</td>\n",
       "      <td>-0.197912</td>\n",
       "      <td>0.045032</td>\n",
       "      <td>-0.058196</td>\n",
       "      <td>-0.044020</td>\n",
       "      <td>0.141664</td>\n",
       "      <td>0.096093</td>\n",
       "      <td>-0.030711</td>\n",
       "      <td>0.118261</td>\n",
       "      <td>0.210041</td>\n",
       "      <td>-0.280937</td>\n",
       "    </tr>\n",
       "    <tr>\n",
       "      <th>cp</th>\n",
       "      <td>-0.068653</td>\n",
       "      <td>-0.049353</td>\n",
       "      <td>1.000000</td>\n",
       "      <td>0.047608</td>\n",
       "      <td>-0.076904</td>\n",
       "      <td>0.094444</td>\n",
       "      <td>0.044421</td>\n",
       "      <td>0.295762</td>\n",
       "      <td>-0.394280</td>\n",
       "      <td>-0.149230</td>\n",
       "      <td>0.119717</td>\n",
       "      <td>-0.181053</td>\n",
       "      <td>-0.161736</td>\n",
       "      <td>0.433798</td>\n",
       "    </tr>\n",
       "    <tr>\n",
       "      <th>trestbps</th>\n",
       "      <td>0.279351</td>\n",
       "      <td>-0.056769</td>\n",
       "      <td>0.047608</td>\n",
       "      <td>1.000000</td>\n",
       "      <td>0.123174</td>\n",
       "      <td>0.177531</td>\n",
       "      <td>-0.114103</td>\n",
       "      <td>-0.046698</td>\n",
       "      <td>0.067616</td>\n",
       "      <td>0.193216</td>\n",
       "      <td>-0.121475</td>\n",
       "      <td>0.101389</td>\n",
       "      <td>0.062210</td>\n",
       "      <td>-0.144931</td>\n",
       "    </tr>\n",
       "    <tr>\n",
       "      <th>chol</th>\n",
       "      <td>0.213678</td>\n",
       "      <td>-0.197912</td>\n",
       "      <td>-0.076904</td>\n",
       "      <td>0.123174</td>\n",
       "      <td>1.000000</td>\n",
       "      <td>0.013294</td>\n",
       "      <td>-0.151040</td>\n",
       "      <td>-0.009940</td>\n",
       "      <td>0.067023</td>\n",
       "      <td>0.053952</td>\n",
       "      <td>-0.004038</td>\n",
       "      <td>0.070511</td>\n",
       "      <td>0.098803</td>\n",
       "      <td>-0.085239</td>\n",
       "    </tr>\n",
       "    <tr>\n",
       "      <th>fbs</th>\n",
       "      <td>0.121308</td>\n",
       "      <td>0.045032</td>\n",
       "      <td>0.094444</td>\n",
       "      <td>0.177531</td>\n",
       "      <td>0.013294</td>\n",
       "      <td>1.000000</td>\n",
       "      <td>-0.084189</td>\n",
       "      <td>-0.008567</td>\n",
       "      <td>0.025665</td>\n",
       "      <td>0.005747</td>\n",
       "      <td>-0.059894</td>\n",
       "      <td>0.137979</td>\n",
       "      <td>-0.032019</td>\n",
       "      <td>-0.028046</td>\n",
       "    </tr>\n",
       "    <tr>\n",
       "      <th>restecg</th>\n",
       "      <td>-0.116211</td>\n",
       "      <td>-0.058196</td>\n",
       "      <td>0.044421</td>\n",
       "      <td>-0.114103</td>\n",
       "      <td>-0.151040</td>\n",
       "      <td>-0.084189</td>\n",
       "      <td>1.000000</td>\n",
       "      <td>0.044123</td>\n",
       "      <td>-0.070733</td>\n",
       "      <td>-0.058770</td>\n",
       "      <td>0.093045</td>\n",
       "      <td>-0.072042</td>\n",
       "      <td>-0.011981</td>\n",
       "      <td>0.137230</td>\n",
       "    </tr>\n",
       "    <tr>\n",
       "      <th>thalach</th>\n",
       "      <td>-0.398522</td>\n",
       "      <td>-0.044020</td>\n",
       "      <td>0.295762</td>\n",
       "      <td>-0.046698</td>\n",
       "      <td>-0.009940</td>\n",
       "      <td>-0.008567</td>\n",
       "      <td>0.044123</td>\n",
       "      <td>1.000000</td>\n",
       "      <td>-0.378812</td>\n",
       "      <td>-0.344187</td>\n",
       "      <td>0.386784</td>\n",
       "      <td>-0.213177</td>\n",
       "      <td>-0.096439</td>\n",
       "      <td>0.421741</td>\n",
       "    </tr>\n",
       "    <tr>\n",
       "      <th>exang</th>\n",
       "      <td>0.096801</td>\n",
       "      <td>0.141664</td>\n",
       "      <td>-0.394280</td>\n",
       "      <td>0.067616</td>\n",
       "      <td>0.067023</td>\n",
       "      <td>0.025665</td>\n",
       "      <td>-0.070733</td>\n",
       "      <td>-0.378812</td>\n",
       "      <td>1.000000</td>\n",
       "      <td>0.288223</td>\n",
       "      <td>-0.257748</td>\n",
       "      <td>0.115739</td>\n",
       "      <td>0.206754</td>\n",
       "      <td>-0.436757</td>\n",
       "    </tr>\n",
       "    <tr>\n",
       "      <th>oldpeak</th>\n",
       "      <td>0.210013</td>\n",
       "      <td>0.096093</td>\n",
       "      <td>-0.149230</td>\n",
       "      <td>0.193216</td>\n",
       "      <td>0.053952</td>\n",
       "      <td>0.005747</td>\n",
       "      <td>-0.058770</td>\n",
       "      <td>-0.344187</td>\n",
       "      <td>0.288223</td>\n",
       "      <td>1.000000</td>\n",
       "      <td>-0.577537</td>\n",
       "      <td>0.222682</td>\n",
       "      <td>0.210244</td>\n",
       "      <td>-0.430696</td>\n",
       "    </tr>\n",
       "    <tr>\n",
       "      <th>slope</th>\n",
       "      <td>-0.168814</td>\n",
       "      <td>-0.030711</td>\n",
       "      <td>0.119717</td>\n",
       "      <td>-0.121475</td>\n",
       "      <td>-0.004038</td>\n",
       "      <td>-0.059894</td>\n",
       "      <td>0.093045</td>\n",
       "      <td>0.386784</td>\n",
       "      <td>-0.257748</td>\n",
       "      <td>-0.577537</td>\n",
       "      <td>1.000000</td>\n",
       "      <td>-0.080155</td>\n",
       "      <td>-0.104764</td>\n",
       "      <td>0.345877</td>\n",
       "    </tr>\n",
       "    <tr>\n",
       "      <th>ca</th>\n",
       "      <td>0.276326</td>\n",
       "      <td>0.118261</td>\n",
       "      <td>-0.181053</td>\n",
       "      <td>0.101389</td>\n",
       "      <td>0.070511</td>\n",
       "      <td>0.137979</td>\n",
       "      <td>-0.072042</td>\n",
       "      <td>-0.213177</td>\n",
       "      <td>0.115739</td>\n",
       "      <td>0.222682</td>\n",
       "      <td>-0.080155</td>\n",
       "      <td>1.000000</td>\n",
       "      <td>0.151832</td>\n",
       "      <td>-0.391724</td>\n",
       "    </tr>\n",
       "    <tr>\n",
       "      <th>thal</th>\n",
       "      <td>0.068001</td>\n",
       "      <td>0.210041</td>\n",
       "      <td>-0.161736</td>\n",
       "      <td>0.062210</td>\n",
       "      <td>0.098803</td>\n",
       "      <td>-0.032019</td>\n",
       "      <td>-0.011981</td>\n",
       "      <td>-0.096439</td>\n",
       "      <td>0.206754</td>\n",
       "      <td>0.210244</td>\n",
       "      <td>-0.104764</td>\n",
       "      <td>0.151832</td>\n",
       "      <td>1.000000</td>\n",
       "      <td>-0.344029</td>\n",
       "    </tr>\n",
       "    <tr>\n",
       "      <th>target</th>\n",
       "      <td>-0.225439</td>\n",
       "      <td>-0.280937</td>\n",
       "      <td>0.433798</td>\n",
       "      <td>-0.144931</td>\n",
       "      <td>-0.085239</td>\n",
       "      <td>-0.028046</td>\n",
       "      <td>0.137230</td>\n",
       "      <td>0.421741</td>\n",
       "      <td>-0.436757</td>\n",
       "      <td>-0.430696</td>\n",
       "      <td>0.345877</td>\n",
       "      <td>-0.391724</td>\n",
       "      <td>-0.344029</td>\n",
       "      <td>1.000000</td>\n",
       "    </tr>\n",
       "  </tbody>\n",
       "</table>\n",
       "</div>"
      ],
      "text/plain": [
       "               age       sex        cp  trestbps      chol       fbs  \\\n",
       "age       1.000000 -0.098447 -0.068653  0.279351  0.213678  0.121308   \n",
       "sex      -0.098447  1.000000 -0.049353 -0.056769 -0.197912  0.045032   \n",
       "cp       -0.068653 -0.049353  1.000000  0.047608 -0.076904  0.094444   \n",
       "trestbps  0.279351 -0.056769  0.047608  1.000000  0.123174  0.177531   \n",
       "chol      0.213678 -0.197912 -0.076904  0.123174  1.000000  0.013294   \n",
       "fbs       0.121308  0.045032  0.094444  0.177531  0.013294  1.000000   \n",
       "restecg  -0.116211 -0.058196  0.044421 -0.114103 -0.151040 -0.084189   \n",
       "thalach  -0.398522 -0.044020  0.295762 -0.046698 -0.009940 -0.008567   \n",
       "exang     0.096801  0.141664 -0.394280  0.067616  0.067023  0.025665   \n",
       "oldpeak   0.210013  0.096093 -0.149230  0.193216  0.053952  0.005747   \n",
       "slope    -0.168814 -0.030711  0.119717 -0.121475 -0.004038 -0.059894   \n",
       "ca        0.276326  0.118261 -0.181053  0.101389  0.070511  0.137979   \n",
       "thal      0.068001  0.210041 -0.161736  0.062210  0.098803 -0.032019   \n",
       "target   -0.225439 -0.280937  0.433798 -0.144931 -0.085239 -0.028046   \n",
       "\n",
       "           restecg   thalach     exang   oldpeak     slope        ca  \\\n",
       "age      -0.116211 -0.398522  0.096801  0.210013 -0.168814  0.276326   \n",
       "sex      -0.058196 -0.044020  0.141664  0.096093 -0.030711  0.118261   \n",
       "cp        0.044421  0.295762 -0.394280 -0.149230  0.119717 -0.181053   \n",
       "trestbps -0.114103 -0.046698  0.067616  0.193216 -0.121475  0.101389   \n",
       "chol     -0.151040 -0.009940  0.067023  0.053952 -0.004038  0.070511   \n",
       "fbs      -0.084189 -0.008567  0.025665  0.005747 -0.059894  0.137979   \n",
       "restecg   1.000000  0.044123 -0.070733 -0.058770  0.093045 -0.072042   \n",
       "thalach   0.044123  1.000000 -0.378812 -0.344187  0.386784 -0.213177   \n",
       "exang    -0.070733 -0.378812  1.000000  0.288223 -0.257748  0.115739   \n",
       "oldpeak  -0.058770 -0.344187  0.288223  1.000000 -0.577537  0.222682   \n",
       "slope     0.093045  0.386784 -0.257748 -0.577537  1.000000 -0.080155   \n",
       "ca       -0.072042 -0.213177  0.115739  0.222682 -0.080155  1.000000   \n",
       "thal     -0.011981 -0.096439  0.206754  0.210244 -0.104764  0.151832   \n",
       "target    0.137230  0.421741 -0.436757 -0.430696  0.345877 -0.391724   \n",
       "\n",
       "              thal    target  \n",
       "age       0.068001 -0.225439  \n",
       "sex       0.210041 -0.280937  \n",
       "cp       -0.161736  0.433798  \n",
       "trestbps  0.062210 -0.144931  \n",
       "chol      0.098803 -0.085239  \n",
       "fbs      -0.032019 -0.028046  \n",
       "restecg  -0.011981  0.137230  \n",
       "thalach  -0.096439  0.421741  \n",
       "exang     0.206754 -0.436757  \n",
       "oldpeak   0.210244 -0.430696  \n",
       "slope    -0.104764  0.345877  \n",
       "ca        0.151832 -0.391724  \n",
       "thal      1.000000 -0.344029  \n",
       "target   -0.344029  1.000000  "
      ]
     },
     "execution_count": 23,
     "metadata": {},
     "output_type": "execute_result"
    }
   ],
   "source": [
    "# Understand correlation matrix between features\n",
    "file.corr()"
   ]
  },
  {
   "cell_type": "code",
   "execution_count": 24,
   "id": "b776bc1e",
   "metadata": {
    "scrolled": false
   },
   "outputs": [
    {
     "data": {
      "image/png": "[encoded data removed]",
      "text/plain": [
       "<Figure size 1080x864 with 2 Axes>"
      ]
     },
     "metadata": {
      "needs_background": "light"
     },
     "output_type": "display_data"
    }
   ],
   "source": [
    "# Visualize correlation betwen features\n",
    "fig, ax = plt.subplots(figsize = (15,12))\n",
    "ax = sns.heatmap(file.corr(), annot = True)"
   ]
  },
  {
   "cell_type": "markdown",
   "id": "bac1e274",
   "metadata": {},
   "source": [
    "### 5. Modeling"
   ]
  },
  {
   "cell_type": "markdown",
   "id": "b843353b",
   "metadata": {},
   "source": [
    "The focus of this project is given the clinical features, predict if a patient has heart disease or not. \n",
    "Obtaining over 95% accuracy will be considered a successful project."
   ]
  },
  {
   "cell_type": "markdown",
   "id": "e52ebbf9",
   "metadata": {},
   "source": [
    "**How Models Were Chosen**\n",
    "    \n",
    "For this project, we'll use RandomForestClassifier, LogisticRegression and KNeighborsClassifier. \n",
    "\n",
    "Because focusing on recall and lowering the false negative results and finding the patients with more vulnerability to developing heart disease are important aspact, and since all columns are numeric, LogisticRegression is a great model to consider for this project.\n",
    "Since the features used for this project are non linear, and its generally faster than other classification models, we'll use KNeighborsClassifier for this project. Also, since RandomForestClassifier is more of accuracy focused and it has the ability to look at individual decision trees and capture more complex features, it would be a great fit as well. "
   ]
  },
  {
   "cell_type": "markdown",
   "id": "eba2dcb0",
   "metadata": {},
   "source": [
    "#### Splitting Datasets and Fitting Models the Data"
   ]
  },
  {
   "cell_type": "code",
   "execution_count": 25,
   "id": "87f711eb",
   "metadata": {},
   "outputs": [
    {
     "data": {
      "text/plain": [
       "{'RandomForestClassifier': 85.24590163934425,\n",
       " 'KNN': 68.85245901639344,\n",
       " 'Logistic Regression': 86.88524590163934,\n",
       " 'XGBoost': 81.9672131147541}"
      ]
     },
     "execution_count": 25,
     "metadata": {},
     "output_type": "execute_result"
    }
   ],
   "source": [
    "# Defining X and y\n",
    "features = file.drop(\"target\", axis = 1)\n",
    "target = file.target\n",
    "\n",
    "# Splitting data\n",
    "np.random.seed(42)\n",
    "features_train, features_test, target_train, target_test = train_test_split(features, target, test_size = 0.2)\n",
    "\n",
    "\n",
    "# Initiating models in a dictionary\n",
    "models = {\"RandomForestClassifier\" :RandomForestClassifier(),\n",
    "         \"KNN\" : KNeighborsClassifier(),\n",
    "         \"Logistic Regression\": LogisticRegression(solver='lbfgs', max_iter=1000), # Using the suggestion to avoid convergence warning\n",
    "         \"XGBoost\" : XGBClassifier(use_label_encoder=False, eval_metric = 'logloss')}\n",
    "\n",
    "# Holds the model scores\n",
    "model_scores = {}\n",
    "\n",
    "def fit_and_score(model_dictionary, X_train, X_test, y_train, y_test):\n",
    "    '''\n",
    "    Fits the training data to the model and put the model scores in the model_scores dictionary.\n",
    "    model_dictionary = where the models are initiated\n",
    "    '''\n",
    "    for name, model in models.items():\n",
    "        model.fit(X_train, y_train)\n",
    "        model_scores[name] = model.score(X_test, y_test)*100\n",
    "    return model_scores\n",
    "\n",
    "\n",
    "fit_and_score(models, features_train, features_test, target_train, target_test)"
   ]
  },
  {
   "cell_type": "markdown",
   "id": "6b49de5d",
   "metadata": {},
   "source": [
    "#### Cross validated RandomForestClassifier"
   ]
  },
  {
   "cell_type": "code",
   "execution_count": 26,
   "id": "68c395f5",
   "metadata": {},
   "outputs": [
    {
     "data": {
      "text/plain": [
       "0.8424242424242424"
      ]
     },
     "execution_count": 26,
     "metadata": {},
     "output_type": "execute_result"
    }
   ],
   "source": [
    "cross_val_score(RandomForestClassifier(), features, target, cv = 5, scoring = 'recall').mean()"
   ]
  },
  {
   "cell_type": "code",
   "execution_count": 27,
   "id": "cb2de458",
   "metadata": {},
   "outputs": [
    {
     "name": "stdout",
     "output_type": "stream",
     "text": [
      "Maximum value: 86.89%\n"
     ]
    },
    {
     "data": {
      "image/png": "[encoded data removed]",
      "text/plain": [
       "<Figure size 576x432 with 1 Axes>"
      ]
     },
     "metadata": {
      "needs_background": "light"
     },
     "output_type": "display_data"
    }
   ],
   "source": [
    "print(f\"Maximum value: {max(model_scores.values()):.2f}%\")\n",
    "\n",
    "# Creating a bar graph showing the model scores\n",
    "accuracy_scores = pd.DataFrame(model_scores, index = [\"Accuracy Percentage %\"])\n",
    "accuracy_scores.T.plot(kind = \"bar\", figsize = (8,6))\n",
    "plt.axhline(max(model_scores.values()), linestyle = \"--\", c = \"orange\");\n",
    "\n",
    "    "
   ]
  },
  {
   "cell_type": "markdown",
   "id": "92716530",
   "metadata": {},
   "source": [
    "Looking at the graph, we'll move forward with hyperparameter tuning for RandomForestClassifier and Logistic Regression and XGBoostClassifier"
   ]
  },
  {
   "cell_type": "markdown",
   "id": "c5e1b137",
   "metadata": {},
   "source": [
    "### Hyperparameter Tuning with RandomizedSearchCV And GridSearchCV"
   ]
  },
  {
   "cell_type": "code",
   "execution_count": 28,
   "id": "5809c65f",
   "metadata": {},
   "outputs": [
    {
     "name": "stdout",
     "output_type": "stream",
     "text": [
      "Fitting 5 folds for each of 20 candidates, totalling 100 fits\n",
      "Fitting 5 folds for each of 20 candidates, totalling 100 fits\n"
     ]
    },
    {
     "name": "stderr",
     "output_type": "stream",
     "text": [
      "C:\\users\\Charles\\Desktop\\sample_project_1\\env\\lib\\site-packages\\sklearn\\linear_model\\_sag.py:352: ConvergenceWarning: The max_iter was reached which means the coef_ did not converge\n",
      "  warnings.warn(\n",
      "C:\\users\\Charles\\Desktop\\sample_project_1\\env\\lib\\site-packages\\sklearn\\linear_model\\_sag.py:352: ConvergenceWarning: The max_iter was reached which means the coef_ did not converge\n",
      "  warnings.warn(\n",
      "C:\\users\\Charles\\Desktop\\sample_project_1\\env\\lib\\site-packages\\sklearn\\linear_model\\_sag.py:352: ConvergenceWarning: The max_iter was reached which means the coef_ did not converge\n",
      "  warnings.warn(\n",
      "C:\\users\\Charles\\Desktop\\sample_project_1\\env\\lib\\site-packages\\sklearn\\linear_model\\_sag.py:352: ConvergenceWarning: The max_iter was reached which means the coef_ did not converge\n",
      "  warnings.warn(\n",
      "C:\\users\\Charles\\Desktop\\sample_project_1\\env\\lib\\site-packages\\sklearn\\linear_model\\_sag.py:352: ConvergenceWarning: The max_iter was reached which means the coef_ did not converge\n",
      "  warnings.warn(\n",
      "C:\\users\\Charles\\Desktop\\sample_project_1\\env\\lib\\site-packages\\sklearn\\linear_model\\_sag.py:352: ConvergenceWarning: The max_iter was reached which means the coef_ did not converge\n",
      "  warnings.warn(\n",
      "C:\\users\\Charles\\Desktop\\sample_project_1\\env\\lib\\site-packages\\sklearn\\linear_model\\_sag.py:352: ConvergenceWarning: The max_iter was reached which means the coef_ did not converge\n",
      "  warnings.warn(\n",
      "C:\\users\\Charles\\Desktop\\sample_project_1\\env\\lib\\site-packages\\sklearn\\linear_model\\_sag.py:352: ConvergenceWarning: The max_iter was reached which means the coef_ did not converge\n",
      "  warnings.warn(\n",
      "C:\\users\\Charles\\Desktop\\sample_project_1\\env\\lib\\site-packages\\sklearn\\linear_model\\_sag.py:352: ConvergenceWarning: The max_iter was reached which means the coef_ did not converge\n",
      "  warnings.warn(\n",
      "C:\\users\\Charles\\Desktop\\sample_project_1\\env\\lib\\site-packages\\sklearn\\linear_model\\_sag.py:352: ConvergenceWarning: The max_iter was reached which means the coef_ did not converge\n",
      "  warnings.warn(\n",
      "C:\\users\\Charles\\Desktop\\sample_project_1\\env\\lib\\site-packages\\sklearn\\linear_model\\_sag.py:352: ConvergenceWarning: The max_iter was reached which means the coef_ did not converge\n",
      "  warnings.warn(\n",
      "C:\\users\\Charles\\Desktop\\sample_project_1\\env\\lib\\site-packages\\sklearn\\linear_model\\_sag.py:352: ConvergenceWarning: The max_iter was reached which means the coef_ did not converge\n",
      "  warnings.warn(\n",
      "C:\\users\\Charles\\Desktop\\sample_project_1\\env\\lib\\site-packages\\sklearn\\linear_model\\_sag.py:352: ConvergenceWarning: The max_iter was reached which means the coef_ did not converge\n",
      "  warnings.warn(\n",
      "C:\\users\\Charles\\Desktop\\sample_project_1\\env\\lib\\site-packages\\sklearn\\linear_model\\_sag.py:352: ConvergenceWarning: The max_iter was reached which means the coef_ did not converge\n",
      "  warnings.warn(\n",
      "C:\\users\\Charles\\Desktop\\sample_project_1\\env\\lib\\site-packages\\sklearn\\linear_model\\_sag.py:352: ConvergenceWarning: The max_iter was reached which means the coef_ did not converge\n",
      "  warnings.warn(\n",
      "C:\\users\\Charles\\Desktop\\sample_project_1\\env\\lib\\site-packages\\sklearn\\linear_model\\_sag.py:352: ConvergenceWarning: The max_iter was reached which means the coef_ did not converge\n",
      "  warnings.warn(\n",
      "C:\\users\\Charles\\Desktop\\sample_project_1\\env\\lib\\site-packages\\sklearn\\linear_model\\_sag.py:352: ConvergenceWarning: The max_iter was reached which means the coef_ did not converge\n",
      "  warnings.warn(\n",
      "C:\\users\\Charles\\Desktop\\sample_project_1\\env\\lib\\site-packages\\sklearn\\linear_model\\_sag.py:352: ConvergenceWarning: The max_iter was reached which means the coef_ did not converge\n",
      "  warnings.warn(\n",
      "C:\\users\\Charles\\Desktop\\sample_project_1\\env\\lib\\site-packages\\sklearn\\linear_model\\_sag.py:352: ConvergenceWarning: The max_iter was reached which means the coef_ did not converge\n",
      "  warnings.warn(\n",
      "C:\\users\\Charles\\Desktop\\sample_project_1\\env\\lib\\site-packages\\sklearn\\linear_model\\_sag.py:352: ConvergenceWarning: The max_iter was reached which means the coef_ did not converge\n",
      "  warnings.warn(\n",
      "C:\\users\\Charles\\Desktop\\sample_project_1\\env\\lib\\site-packages\\sklearn\\linear_model\\_sag.py:352: ConvergenceWarning: The max_iter was reached which means the coef_ did not converge\n",
      "  warnings.warn(\n",
      "C:\\users\\Charles\\Desktop\\sample_project_1\\env\\lib\\site-packages\\sklearn\\linear_model\\_sag.py:352: ConvergenceWarning: The max_iter was reached which means the coef_ did not converge\n",
      "  warnings.warn(\n",
      "C:\\users\\Charles\\Desktop\\sample_project_1\\env\\lib\\site-packages\\sklearn\\linear_model\\_sag.py:352: ConvergenceWarning: The max_iter was reached which means the coef_ did not converge\n",
      "  warnings.warn(\n",
      "C:\\users\\Charles\\Desktop\\sample_project_1\\env\\lib\\site-packages\\sklearn\\linear_model\\_sag.py:352: ConvergenceWarning: The max_iter was reached which means the coef_ did not converge\n",
      "  warnings.warn(\n",
      "C:\\users\\Charles\\Desktop\\sample_project_1\\env\\lib\\site-packages\\sklearn\\linear_model\\_sag.py:352: ConvergenceWarning: The max_iter was reached which means the coef_ did not converge\n",
      "  warnings.warn(\n",
      "C:\\users\\Charles\\Desktop\\sample_project_1\\env\\lib\\site-packages\\sklearn\\linear_model\\_sag.py:352: ConvergenceWarning: The max_iter was reached which means the coef_ did not converge\n",
      "  warnings.warn(\n",
      "C:\\users\\Charles\\Desktop\\sample_project_1\\env\\lib\\site-packages\\sklearn\\linear_model\\_sag.py:352: ConvergenceWarning: The max_iter was reached which means the coef_ did not converge\n",
      "  warnings.warn(\n",
      "C:\\users\\Charles\\Desktop\\sample_project_1\\env\\lib\\site-packages\\sklearn\\linear_model\\_sag.py:352: ConvergenceWarning: The max_iter was reached which means the coef_ did not converge\n",
      "  warnings.warn(\n",
      "C:\\users\\Charles\\Desktop\\sample_project_1\\env\\lib\\site-packages\\sklearn\\linear_model\\_sag.py:352: ConvergenceWarning: The max_iter was reached which means the coef_ did not converge\n",
      "  warnings.warn(\n",
      "C:\\users\\Charles\\Desktop\\sample_project_1\\env\\lib\\site-packages\\sklearn\\linear_model\\_sag.py:352: ConvergenceWarning: The max_iter was reached which means the coef_ did not converge\n",
      "  warnings.warn(\n",
      "C:\\users\\Charles\\Desktop\\sample_project_1\\env\\lib\\site-packages\\sklearn\\linear_model\\_sag.py:352: ConvergenceWarning: The max_iter was reached which means the coef_ did not converge\n",
      "  warnings.warn(\n",
      "C:\\users\\Charles\\Desktop\\sample_project_1\\env\\lib\\site-packages\\sklearn\\linear_model\\_sag.py:352: ConvergenceWarning: The max_iter was reached which means the coef_ did not converge\n",
      "  warnings.warn(\n",
      "C:\\users\\Charles\\Desktop\\sample_project_1\\env\\lib\\site-packages\\sklearn\\linear_model\\_sag.py:352: ConvergenceWarning: The max_iter was reached which means the coef_ did not converge\n",
      "  warnings.warn(\n",
      "C:\\users\\Charles\\Desktop\\sample_project_1\\env\\lib\\site-packages\\sklearn\\linear_model\\_sag.py:352: ConvergenceWarning: The max_iter was reached which means the coef_ did not converge\n",
      "  warnings.warn(\n",
      "C:\\users\\Charles\\Desktop\\sample_project_1\\env\\lib\\site-packages\\sklearn\\linear_model\\_sag.py:352: ConvergenceWarning: The max_iter was reached which means the coef_ did not converge\n",
      "  warnings.warn(\n",
      "C:\\users\\Charles\\Desktop\\sample_project_1\\env\\lib\\site-packages\\sklearn\\model_selection\\_validation.py:372: FitFailedWarning: \n",
      "25 fits failed out of a total of 100.\n",
      "The score on these train-test partitions for these parameters will be set to nan.\n",
      "If these failures are not expected, you can try to debug them by setting error_score='raise'.\n",
      "\n",
      "Below are more details about the failures:\n",
      "--------------------------------------------------------------------------------\n",
      "25 fits failed with the following error:\n",
      "Traceback (most recent call last):\n",
      "  File \"C:\\users\\Charles\\Desktop\\sample_project_1\\env\\lib\\site-packages\\sklearn\\model_selection\\_validation.py\", line 680, in _fit_and_score\n",
      "    estimator.fit(X_train, y_train, **fit_params)\n",
      "  File \"C:\\users\\Charles\\Desktop\\sample_project_1\\env\\lib\\site-packages\\sklearn\\linear_model\\_logistic.py\", line 1461, in fit\n",
      "    solver = _check_solver(self.solver, self.penalty, self.dual)\n",
      "  File \"C:\\users\\Charles\\Desktop\\sample_project_1\\env\\lib\\site-packages\\sklearn\\linear_model\\_logistic.py\", line 447, in _check_solver\n",
      "    raise ValueError(\n",
      "ValueError: Solver sag supports only 'l2' or 'none' penalties, got l1 penalty.\n",
      "\n",
      "  warnings.warn(some_fits_failed_message, FitFailedWarning)\n",
      "C:\\users\\Charles\\Desktop\\sample_project_1\\env\\lib\\site-packages\\sklearn\\model_selection\\_search.py:969: UserWarning: One or more of the test scores are non-finite: [       nan 0.81811224 0.66513605 0.57431973 0.81420068 0.66513605\n",
      " 0.66513605        nan 0.80969388 0.80578231        nan 0.66513605\n",
      "        nan 0.83052721 0.66921769 0.66513605 0.81794218 0.80561224\n",
      "        nan 0.66513605]\n",
      "  warnings.warn(\n"
     ]
    },
    {
     "data": {
      "text/plain": [
       "{RandomForestClassifier(): {'n_estimators': 300,\n",
       "  'min_samples_split': 4,\n",
       "  'min_samples_leaf': 6,\n",
       "  'max_features': 'sqrt',\n",
       "  'max_depth': 3},\n",
       " LogisticRegression(): {'solver': 'liblinear',\n",
       "  'penalty': 'l2',\n",
       "  'C': 0.20433597178569418}}"
      ]
     },
     "execution_count": 28,
     "metadata": {},
     "output_type": "execute_result"
    }
   ],
   "source": [
    "# Grid for RandomForstClassifier\n",
    "rfc_grid = {\"n_estimators\": [200,300,500],\n",
    "           \"max_depth\": [None, 3, 5,8, 10],\n",
    "           \"min_samples_split\": [2, 4,6,8],\n",
    "           \"min_samples_leaf\": [2,4,6,8],\n",
    "           \"max_features\":['auto', 'sqrt']}\n",
    "\n",
    "# Grid for Logistic Regression\n",
    "lr_grid = {\"C\": np.logspace(-4, 4, 30),\n",
    "         \"solver\": [\"liblinear\", \"sag\", \"saga\"],\n",
    "          \"penalty\":['l1', 'l2']}\n",
    "\n",
    "# Dictionary to hold grids\n",
    "grids = {RandomForestClassifier(): rfc_grid,\n",
    "         LogisticRegression(): lr_grid}\n",
    "\n",
    "# Hold the best parameters of the models\n",
    "best_grids = {}\n",
    "\n",
    "def best_params_with_rscv():\n",
    "    '''\n",
    "    Shows the best parameter selection from the grid which gives the best accuracy scores. \n",
    "    model = model name\n",
    "    grids = grid which contains lists of parameters tested.\n",
    "    '''\n",
    "    np.random.seed(42)\n",
    "    for name, grid in grids.items():\n",
    "        rscv = RandomizedSearchCV(name,\n",
    "                                 param_distributions= grid,\n",
    "                                 cv = 5, \n",
    "                                 verbose = True,\n",
    "                                 n_iter = 20)\n",
    "        rscv.fit(features_train, target_train)\n",
    "        best_grids[name] = rscv.best_params_\n",
    "\n",
    "    return best_grids\n",
    "\n",
    "# Get the best parameters\n",
    "best_params_with_rscv()"
   ]
  },
  {
   "cell_type": "markdown",
   "id": "a3b3b34b",
   "metadata": {},
   "source": [
    "**Accuracy using best_params_ for RandomForestClassifier**"
   ]
  },
  {
   "cell_type": "code",
   "execution_count": 29,
   "id": "7fc6d60a",
   "metadata": {},
   "outputs": [
    {
     "name": "stdout",
     "output_type": "stream",
     "text": [
      "Fitting 5 folds for each of 1 candidates, totalling 5 fits\n"
     ]
    },
    {
     "data": {
      "text/plain": [
       "86.88524590163934"
      ]
     },
     "execution_count": 29,
     "metadata": {},
     "output_type": "execute_result"
    }
   ],
   "source": [
    "# Using best parameters of RandomForestClassifier to score the testing data \n",
    "best_rfc_grid = {'n_estimators': [300],\n",
    "                 'min_samples_split' :  [4],\n",
    "                 'min_samples_leaf': [6],\n",
    "                 'max_features' :['sqrt'],\n",
    "                 'max_depth': [3]}\n",
    "                                     \n",
    "best_rfc_score = score_with_gscv(RandomForestClassifier(), best_rfc_grid)\n",
    "best_rfc_score"
   ]
  },
  {
   "cell_type": "markdown",
   "id": "b884c04d",
   "metadata": {},
   "source": [
    "**Accuracy using best_params_ for LogisticRegression**"
   ]
  },
  {
   "cell_type": "code",
   "execution_count": 30,
   "id": "44ea9f5f",
   "metadata": {},
   "outputs": [
    {
     "name": "stdout",
     "output_type": "stream",
     "text": [
      "Fitting 5 folds for each of 1 candidates, totalling 5 fits\n"
     ]
    },
    {
     "data": {
      "text/plain": [
       "88.52459016393442"
      ]
     },
     "execution_count": 30,
     "metadata": {},
     "output_type": "execute_result"
    }
   ],
   "source": [
    "best_lg_grid = {'solver': ['liblinear'],\n",
    "                'penalty':['l2'],\n",
    "                'C': [0.20433597178569418]}\n",
    "\n",
    "best_lg_score = score_with_gscv(LogisticRegression(), best_lg_grid)\n",
    "best_lg_score"
   ]
  },
  {
   "cell_type": "markdown",
   "id": "09cac2df",
   "metadata": {},
   "source": [
    "**Accuracy Score Prior to Parameter tuning**"
   ]
  },
  {
   "cell_type": "code",
   "execution_count": 31,
   "id": "fb7715b0",
   "metadata": {},
   "outputs": [
    {
     "data": {
      "text/plain": [
       "{'RandomForestClassifier': 85.24590163934425,\n",
       " 'KNN': 68.85245901639344,\n",
       " 'Logistic Regression': 86.88524590163934,\n",
       " 'XGBoost': 81.9672131147541}"
      ]
     },
     "execution_count": 31,
     "metadata": {},
     "output_type": "execute_result"
    }
   ],
   "source": [
    "model_scores"
   ]
  },
  {
   "cell_type": "markdown",
   "id": "9b09858a",
   "metadata": {},
   "source": [
    "**Visualize Before and After Parameter Tuning**"
   ]
  },
  {
   "cell_type": "code",
   "execution_count": 32,
   "id": "c1757e17",
   "metadata": {},
   "outputs": [
    {
     "data": {
      "image/png": "[encoded data removed]",
      "text/plain": [
       "<Figure size 576x720 with 1 Axes>"
      ]
     },
     "metadata": {
      "needs_background": "light"
     },
     "output_type": "display_data"
    }
   ],
   "source": [
    "tuned_data = pd.DataFrame(index = ['RandomForestClass', 'Logistic Regression'], \n",
    "                          data = [[model_scores.get('RandomForestClassifier'), best_rfc_score], [model_scores.get('Logistic Regression') , best_lg_score]],\n",
    "                          columns = ['Before Tuning', 'After Tuning'])\n",
    "fig, ax = plt.subplots(figsize = (8,10))\n",
    "\n",
    "ax = tuned_data.plot(kind = 'bar', ax = ax)\n",
    "ax.set(title = 'Before and After Hyperparameter Tuning', \n",
    "      xlabel = 'Models',\n",
    "      ylabel = 'Accuracy Score')\n",
    "plt.xticks(rotation = 0);"
   ]
  },
  {
   "cell_type": "markdown",
   "id": "8f4d7727",
   "metadata": {},
   "source": [
    "After hyperparameter tuning, we reached accuracy of 88.52% with Logistic Regression model. Prior to tuning, it was 86.88%.\n",
    "\n",
    "\n",
    "RandomForestClassifier model produced 83.60% accuracy. Using RandomizedSearchCV, and finding the best parameters and hyperparameter tuning using GridSearchCV, we reached 86.88% accuracy.\n",
    "\n",
    "Best parameters for LogisticRegression were : {'solver': 'liblinear', 'penalty': 'l2', 'C': 0.20433597178569418}\n",
    "      "
   ]
  },
  {
   "cell_type": "markdown",
   "id": "8d2ba758",
   "metadata": {},
   "source": [
    "### Evaluating the LogisticRegression Model Beyond Accuracy"
   ]
  },
  {
   "cell_type": "markdown",
   "id": "4f44080e",
   "metadata": {},
   "source": [
    "Here, we'll look at the following to evaluate the model.\n",
    "1. ROC curve\n",
    "2. Confusion Matrix\n",
    "3. Classification Report\n",
    "4. Precision\n",
    "5. Recall \n",
    "6. F1-score\n",
    "\n",
    "**1. LogisticRegression - ROC Curve**"
   ]
  },
  {
   "cell_type": "code",
   "execution_count": 33,
   "id": "b981d9ae",
   "metadata": {},
   "outputs": [
    {
     "data": {
      "image/png": "[encoded data removed]",
      "text/plain": [
       "<Figure size 432x288 with 1 Axes>"
      ]
     },
     "metadata": {
      "needs_background": "light"
     },
     "output_type": "display_data"
    }
   ],
   "source": [
    "#ROC curve for LogisticRegression model using the best_parameters_\n",
    "\n",
    "lr_model = LogisticRegression(solver = 'liblinear',\n",
    "                               penalty = 'l2',\n",
    "                               C =  0.20433597178569418)\n",
    "lr_model.fit(features_train, target_train)\n",
    "RocCurveDisplay.from_estimator(lr_model, features_test, target_test );"
   ]
  },
  {
   "cell_type": "markdown",
   "id": "a74facfe",
   "metadata": {},
   "source": [
    "The area under the curve (AUC) in LogisticRegression model is 0.93 which is great.\n",
    "\n",
    "This indicates that there’s only little chance for a patient to be falsely positive. \n",
    "\n",
    "Certainly there’s room for improvement.\n"
   ]
  },
  {
   "cell_type": "markdown",
   "id": "cceedbaa",
   "metadata": {},
   "source": [
    "**2. Confusion Matrix**"
   ]
  },
  {
   "cell_type": "code",
   "execution_count": 34,
   "id": "f30e7d09",
   "metadata": {},
   "outputs": [
    {
     "ename": "NameError",
     "evalue": "name 'target_preds' is not defined",
     "output_type": "error",
     "traceback": [
      "\u001b[1;31m---------------------------------------------------------------------------\u001b[0m",
      "\u001b[1;31mNameError\u001b[0m                                 Traceback (most recent call last)",
      "\u001b[1;32m~\\AppData\\Local\\Temp/ipykernel_10032/4083909685.py\u001b[0m in \u001b[0;36m<module>\u001b[1;34m\u001b[0m\n\u001b[1;32m----> 1\u001b[1;33m \u001b[0mconfusion_matrix\u001b[0m\u001b[1;33m(\u001b[0m\u001b[0mtarget_test\u001b[0m\u001b[1;33m,\u001b[0m \u001b[0mtarget_preds\u001b[0m\u001b[1;33m)\u001b[0m\u001b[1;33m\u001b[0m\u001b[1;33m\u001b[0m\u001b[0m\n\u001b[0m",
      "\u001b[1;31mNameError\u001b[0m: name 'target_preds' is not defined"
     ]
    }
   ],
   "source": [
    "confusion_matrix(target_test, target_preds)"
   ]
  },
  {
   "cell_type": "markdown",
   "id": "1c7d70ca",
   "metadata": {},
   "source": [
    "Visualize the true positives and false nagatives"
   ]
  },
  {
   "cell_type": "code",
   "execution_count": null,
   "id": "79cacc76",
   "metadata": {},
   "outputs": [],
   "source": [
    "fig, ax = plt.subplots()\n",
    "ax = sns.heatmap(confusion_matrix(target_test, target_preds), annot = True)\n",
    "plt.xlabel(\"True lable\")\n",
    "plt.ylabel(\"Predicted label\")\n",
    "plt.title(\"Confuxion Matrix\");\n",
    "    \n"
   ]
  },
  {
   "cell_type": "markdown",
   "id": "6f99f5fe",
   "metadata": {},
   "source": [
    "True positive: False positive  = 29:3 -~ 10:1 \n",
    "\n",
    "Looking at the data, it is most important to focus identifying patients with potential for developing heart disease. Therefore, for this project, reducing the false negative values (truly have a higher risk, yet predicts as not) is more important than reducing false positives (model predicts are high risk when they're not). \n",
    "\n",
    "Hense we recall is a important feature to focus for this heart disease project.\n",
    "\n",
    "Recall = TP / TP + FN  = 29 / ( 29 + 4 ) = 0.8787"
   ]
  },
  {
   "cell_type": "markdown",
   "id": "6edd268a",
   "metadata": {},
   "source": [
    "**3. Classification Report**"
   ]
  },
  {
   "cell_type": "code",
   "execution_count": null,
   "id": "3463a13c",
   "metadata": {},
   "outputs": [],
   "source": [
    "print(classification_report(target_test, target_preds))"
   ]
  },
  {
   "cell_type": "markdown",
   "id": "f5b3c03f",
   "metadata": {},
   "source": [
    "**4.  LogisticRegression - Cross Validated Precision, Recall and f1-Scores for the Model**"
   ]
  },
  {
   "cell_type": "code",
   "execution_count": null,
   "id": "c1504b6a",
   "metadata": {},
   "outputs": [],
   "source": [
    "cv_accuracy = cross_val_score(lr_model, features, target, cv = 5, scoring = 'accuracy').mean()\n",
    "cv_precision = cross_val_score(lr_model, features, target, cv = 5, scoring = 'precision').mean()\n",
    "cv_recall = cross_val_score(lr_model, features, target, cv = 5, scoring = 'recall').mean()\n",
    "cv_f1 = cross_val_score(lr_model, features, target, cv = 5, scoring = 'f1').mean()\n",
    "\n",
    "cv_metrics = pd.DataFrame({\"Accuracy \": cv_accuracy, \n",
    "                              \"Precision \":cv_precision, \n",
    "                              \"Recall \": cv_recall, \n",
    "                              \"F1_score\" : cv_f1},\n",
    "                               index = [\"Scores\"])\n",
    "print(cv_metrics)\n",
    "cv_metrics.T.plot(kind = \"bar\")\n",
    "plt.xticks(rotation= 45);"
   ]
  },
  {
   "cell_type": "markdown",
   "id": "bb9bda41",
   "metadata": {},
   "source": [
    "Recall obtained through cross validated data of 0.921 is significantly higher than evaluating the data once which hs 0.89. Therefore, crossvalidated data provides better validity in analyzing the dataset. "
   ]
  },
  {
   "cell_type": "markdown",
   "id": "9cba22ba",
   "metadata": {},
   "source": [
    "**5. Feature Importance Using Logistic Regression Model**"
   ]
  },
  {
   "cell_type": "markdown",
   "id": "92f8da0d",
   "metadata": {},
   "source": [
    "Finding out the relative importance of features in the dataset when determining the predictions of the chosen LogisticRegression model."
   ]
  },
  {
   "cell_type": "code",
   "execution_count": null,
   "id": "7332e04e",
   "metadata": {},
   "outputs": [],
   "source": [
    "score_with_gscv(LogisticRegression(), best_lg_grid)"
   ]
  },
  {
   "cell_type": "code",
   "execution_count": null,
   "id": "1dd75dec",
   "metadata": {},
   "outputs": [],
   "source": [
    "# Check the coefficience for each column\n",
    "lr_model.coef_"
   ]
  },
  {
   "cell_type": "code",
   "execution_count": null,
   "id": "13c84bce",
   "metadata": {},
   "outputs": [],
   "source": [
    "file.columns"
   ]
  },
  {
   "cell_type": "code",
   "execution_count": null,
   "id": "c4acbf5e",
   "metadata": {},
   "outputs": [],
   "source": [
    "#Match column name to coefficience.\n",
    "column_coef = dict(zip(file.columns, lr_model.coef_[0]))\n",
    "column_coef"
   ]
  },
  {
   "cell_type": "code",
   "execution_count": null,
   "id": "f33cff82",
   "metadata": {
    "scrolled": true
   },
   "outputs": [],
   "source": [
    "#Visualize the feature importance\n",
    "feature_importance = pd.DataFrame(column_coef, index= [''])\n",
    "feature_importance.T.plot(kind = \"bar\")\n",
    "plt.title('Feature Importance');"
   ]
  },
  {
   "cell_type": "raw",
   "id": "940a3ecc",
   "metadata": {},
   "source": [
    "Sex, exercice induced angina (exang), oldpeak, number of visible blood vessels (ca), thal have negative impact on the predictions. \n",
    "\n",
    "Chest pain, resting ekg results, slope of ST segment on the other hand has a positive corrolation on predicting heart disease. \n",
    "\n",
    "Eg: According to the data, female is denoted by 0 and male is 1. According to EDA, more women had heart disease compared to men in this dataset, which means when sex value (0 to 1) goes up, the likelyhood of developing heart disease is low. "
   ]
  },
  {
   "cell_type": "markdown",
   "id": "3fe2514f",
   "metadata": {},
   "source": [
    "The project can be improved by obtaining more random data to represent the general public, trying other predictive models, and tuning different hyperparameters to obtain better results.\n",
    "\n",
    "Also consulting with subject matter expert to discuss the finding and understanding where the disconnect with the real world would give a better sense of the data used and help gather more random dataset for the future projects. "
   ]
  },
  {
   "cell_type": "code",
   "execution_count": null,
   "id": "832b1446",
   "metadata": {},
   "outputs": [],
   "source": []
  }
 ],
 "metadata": {
  "kernelspec": {
   "display_name": "Python 3 (ipykernel)",
   "language": "python",
   "name": "python3"
  },
  "language_info": {
   "codemirror_mode": {
    "name": "ipython",
    "version": 3
   },
   "file_extension": ".py",
   "mimetype": "text/x-python",
   "name": "python",
   "nbconvert_exporter": "python",
   "pygments_lexer": "ipython3",
   "version": "3.8.12"
  }
 },
 "nbformat": 4,
 "nbformat_minor": 5
}
